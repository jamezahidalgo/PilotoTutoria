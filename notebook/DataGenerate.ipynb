{
 "cells": [
  {
   "cell_type": "markdown",
   "source": "Se manejan 5 categorías:\n+ 1 - Nota entre 6.0 y 7.0\n+ 2 - Nota entre 5.0 y 5.9\n+ 3 - Nota entre 4.0 y 4.9\n+ 4 - Nota entre 3.0 y 3.9\n+ 5 - Nota inferior o igual a 2.9",
   "metadata": {
    "cell_id": "3ad201da-7ba9-4711-8544-c0a972747528",
    "tags": [],
    "deepnote_cell_type": "markdown"
   }
  },
  {
   "cell_type": "code",
   "metadata": {
    "cell_id": "0590c6ce-77d6-4a9b-90ee-9bc7bdf639b7",
    "tags": [],
    "deepnote_to_be_reexecuted": false,
    "source_hash": "e441e1d",
    "execution_start": 1644508728065,
    "execution_millis": 2344,
    "deepnote_cell_type": "code"
   },
   "source": "import matplotlib.pyplot as plt\nimport numpy as np\nimport pandas as pd\nfrom sklearn.datasets import make_blobs",
   "execution_count": null,
   "outputs": []
  },
  {
   "cell_type": "markdown",
   "source": "## Definición de parámetros",
   "metadata": {
    "cell_id": "c6d61826-500e-410a-a343-af3e6554dc6f",
    "tags": [],
    "is_collapsed": false,
    "deepnote_cell_type": "text-cell-h2"
   }
  },
  {
   "cell_type": "markdown",
   "source": "Estos valores debe estar en el archivo model.config",
   "metadata": {
    "cell_id": "9af91c51-4505-4422-8ecb-3d56da04b812",
    "tags": [],
    "is_collapsed": false,
    "deepnote_cell_type": "text-cell-p"
   }
  },
  {
   "cell_type": "code",
   "metadata": {
    "cell_id": "8679c78b-0bf8-438c-b139-972d7a726c9c",
    "tags": [],
    "deepnote_to_be_reexecuted": false,
    "source_hash": "5cb9cbe2",
    "execution_start": 1644509499698,
    "execution_millis": 2,
    "deepnote_cell_type": "code"
   },
   "source": "MAX_ESCALA = 5\nN_ITEMS = 8\nN_OBSERVACIONES = 150\nN_CLUSTERS = 5\nPUNTAJE = 7\nPUNTAJE_MAXIMO = MAX_ESCALA*N_ITEMS\nEXIGENCIA = 0.6\nNOTA_MAXIMA = 7\nNOTA_MINIMA = 1\nNOTA_APROBACION = 4\nPUNTAJE_CORTE = PUNTAJE_MAXIMO*EXIGENCIA",
   "execution_count": null,
   "outputs": []
  },
  {
   "cell_type": "markdown",
   "source": "## Simulación manual",
   "metadata": {
    "cell_id": "2dfcc93a-56eb-4b70-b241-16c4231be809",
    "tags": [],
    "is_collapsed": false,
    "deepnote_cell_type": "text-cell-h2"
   }
  },
  {
   "cell_type": "code",
   "metadata": {
    "tags": [],
    "cell_id": "12aa53cf-aba2-4b92-b729-9c32d95383b3",
    "deepnote_to_be_reexecuted": false,
    "source_hash": "50884598",
    "execution_start": 1644099912435,
    "execution_millis": 34,
    "deepnote_cell_type": "code"
   },
   "source": "#escala = [PUNTAJE, round(PUNTAJE*0.8,1), round(PUNTAJE*0.6,1), round(PUNTAJE*0.3,1), 0]\nescala = [5,4,3,2,1]\narchivo = open(\"Simulation.csv\",\"w\")\nheader = \"RUT\"\nfor item in range(1, N_ITEMS+1):\n    header = header + \";I\" + str(item);\narchivo.write(header + \";NOTA;CATEGORIA\" + \"\\n\")\n\nfor index in range(1, N_OBSERVACIONES+1):\n    puntaje = 0\n    line = str(index)\n    for item in range(1, N_ITEMS+1):\n        logro = np.random.randint(5)\n        line = line + \";\" + str(escala[logro])\n        puntaje += logro\n        #print(\"Item\", item, \"logro =\", escala[logro])\n    # Calcula la nota\n    nota = 0\n    if puntaje >= PUNTAJE_CORTE:\n        nota = round((NOTA_MAXIMA - NOTA_APROBACION)*(puntaje-PUNTAJE_CORTE)/(PUNTAJE_MAXIMO*(1-EXIGENCIA))+NOTA_APROBACION,1)\n    else: \n        nota = round((NOTA_APROBACION - NOTA_MINIMA)*(puntaje/PUNTAJE_CORTE)+NOTA_MINIMA,1)\n    categoria = 5\n    # Determina la categoria de acuerdo a la nota\n    if nota >= 6.0: categoria = 1\n    elif nota >= 5: categoria = 2\n    elif nota >= 4: categoria = 3\n    elif nota >= 3: categoria = 4\n    line = line + \";\" + str(nota) + \";\" + str(categoria)\n    archivo.write(line + \"\\n\")\narchivo.close()",
   "execution_count": null,
   "outputs": []
  },
  {
   "cell_type": "markdown",
   "source": "## Simulación usando make_blobs",
   "metadata": {
    "cell_id": "247f2365-f3c0-4b28-9299-b4aac52cbac3",
    "tags": [],
    "is_collapsed": false,
    "deepnote_cell_type": "text-cell-h2"
   }
  },
  {
   "cell_type": "code",
   "metadata": {
    "cell_id": "30b386b5-1a4f-48b9-980e-142b0f93255f",
    "tags": [],
    "deepnote_to_be_reexecuted": false,
    "source_hash": "2059939a",
    "execution_start": 1644509623858,
    "execution_millis": 3,
    "deepnote_cell_type": "code"
   },
   "source": "X, y = make_blobs(\n        n_samples    = N_OBSERVACIONES , \n        n_features   = N_ITEMS, \n        centers = N_CLUSTERS,\n        cluster_std = 0.6,\n        shuffle      = True, \n        random_state = 0\n       )\n\n",
   "execution_count": null,
   "outputs": []
  },
  {
   "cell_type": "code",
   "metadata": {
    "cell_id": "36a80732-2818-4fdf-9a43-557b64939300",
    "tags": [],
    "deepnote_to_be_reexecuted": false,
    "source_hash": "b2696ff6",
    "execution_start": 1644509836005,
    "execution_millis": 5,
    "deepnote_output_heights": [
     1
    ],
    "deepnote_cell_type": "code"
   },
   "source": "X",
   "execution_count": null,
   "outputs": [
    {
     "output_type": "execute_result",
     "execution_count": 46,
     "data": {
      "text/plain": "array([[  1.2021254 ,   3.64414685,   2.23421043, ...,   2.82810154,\n         -1.50934791,   8.94501825],\n       [  1.01618041,   4.48527047,   1.67467427, ...,   2.70215036,\n         -1.73614354,   6.79969045],\n       [ -0.437998  ,   1.32938595,  -9.41530245, ...,   2.32011818,\n          9.82228069,   3.15910565],\n       ...,\n       [  1.32222457,   4.17880807,   2.29287155, ...,   3.18151728,\n         -1.14825168,   8.21647888],\n       [ -7.9052933 ,   2.95783321,  -6.69907396, ...,  -2.36850493,\n         -4.76990612,   5.49624142],\n       [-10.07900796,   5.98140976,   5.48450261, ...,   5.58723625,\n         -1.45429423,   6.08155804]])"
     },
     "metadata": {}
    }
   ]
  },
  {
   "cell_type": "code",
   "metadata": {
    "cell_id": "29ac0984-9685-4004-a891-8851e68d2e17",
    "tags": [],
    "deepnote_to_be_reexecuted": false,
    "source_hash": "ce04b77e",
    "execution_start": 1644509628315,
    "execution_millis": 6,
    "deepnote_output_heights": [
     1
    ],
    "deepnote_cell_type": "code"
   },
   "source": "y",
   "execution_count": null,
   "outputs": [
    {
     "output_type": "execute_result",
     "execution_count": 34,
     "data": {
      "text/plain": "array([0, 0, 4, 3, 4, 1, 3, 2, 4, 3, 2, 2, 0, 1, 2, 4, 3, 0, 1, 4, 2, 0,\n       3, 0, 3, 4, 3, 3, 2, 3, 1, 0, 0, 4, 2, 2, 3, 4, 4, 0, 3, 0, 1, 2,\n       1, 4, 1, 2, 2, 4, 0, 4, 0, 1, 4, 0, 1, 2, 2, 0, 1, 1, 1, 0, 1, 1,\n       0, 3, 2, 1, 3, 2, 2, 1, 3, 2, 3, 2, 2, 4, 1, 0, 2, 1, 1, 2, 0, 1,\n       2, 4, 4, 4, 3, 4, 3, 2, 3, 2, 3, 1, 4, 1, 4, 1, 0, 4, 4, 3, 1, 1,\n       4, 1, 0, 4, 3, 3, 3, 0, 0, 2, 4, 0, 3, 3, 2, 0, 1, 1, 3, 0, 2, 2,\n       1, 4, 0, 3, 0, 1, 0, 0, 4, 3, 4, 3, 4, 2, 4, 0, 3, 2])"
     },
     "metadata": {}
    }
   ]
  },
  {
   "cell_type": "markdown",
   "source": "### Funciones útiles",
   "metadata": {
    "cell_id": "aa279b2d-8cbc-46ac-bc6c-2665f6f353cc",
    "tags": [],
    "is_collapsed": false,
    "deepnote_cell_type": "text-cell-h3"
   }
  },
  {
   "cell_type": "code",
   "metadata": {
    "cell_id": "424a35c2-738e-438c-9ad7-eaaf5f141ec1",
    "tags": [],
    "deepnote_to_be_reexecuted": false,
    "source_hash": "56c46cf1",
    "execution_start": 1644509535819,
    "execution_millis": 2,
    "deepnote_cell_type": "code"
   },
   "source": "def calculate_note(puntaje):\n    if puntaje >= PUNTAJE_CORTE:\n        nota = round((NOTA_MAXIMA - NOTA_APROBACION)*(puntaje-PUNTAJE_CORTE)/(PUNTAJE_MAXIMO*(1-EXIGENCIA))+NOTA_APROBACION,1)\n    else: \n        nota = round((NOTA_APROBACION - NOTA_MINIMA)*(puntaje/PUNTAJE_CORTE)+NOTA_MINIMA,1)\n    return nota\n\ndef calculate_categorie(nota):\n    if nota >= 6.0: categoria = 1\n    elif nota >= 5: categoria = 2\n    elif nota >= 4: categoria = 3\n    elif nota >= 3: categoria = 4\n    else: categoria = 5\n    return categoria",
   "execution_count": null,
   "outputs": []
  },
  {
   "cell_type": "markdown",
   "source": "### Calcula puntaje, nota y categoría",
   "metadata": {
    "cell_id": "ec5d87ed-f137-4239-8793-fc18dd93be4a",
    "tags": [],
    "is_collapsed": false,
    "deepnote_cell_type": "text-cell-h3"
   }
  },
  {
   "cell_type": "code",
   "metadata": {
    "cell_id": "2280d331-9baf-4306-b5fb-4472b95d6013",
    "tags": [],
    "deepnote_to_be_reexecuted": false,
    "source_hash": "311e5acd",
    "execution_start": 1644509634376,
    "execution_millis": 134,
    "deepnote_output_heights": [
     231
    ],
    "deepnote_cell_type": "code"
   },
   "source": "all_features = ['ID','I1','I2','I3','I4','I5','I6','I7','I8','PUNTAJE','NOTA','CATEGORIA']\nitems_features = ['I1','I2','I3','I4','I5','I6','I7','I8']\ndata_frame = pd.DataFrame(X, columns=items_features)\ndata_frame = data_frame.apply(lambda value : round(abs(value)), axis = 1)\nfor column in data_frame.columns:\n    data_frame[column] = data_frame[column].apply(lambda value : np.max([value, 1.0]))\n    data_frame[column] = data_frame[column].apply(lambda value : np.min([value, MAX_ESCALA]))\ndata_frame['PUNTAJE'] = data_frame.sum(axis=1)\ndata_frame['NOTA'] = data_frame['PUNTAJE'].apply(lambda row : calculate_note(row))\ndata_frame['CATEGORIA'] = data_frame['NOTA'].apply(lambda row : calculate_categorie(row))\ndata_frame['ID'] = range(1, X.shape[0]+1)\ndata_frame = data_frame.reindex(columns=all_features)\ndata_frame",
   "execution_count": null,
   "outputs": [
    {
     "output_type": "execute_result",
     "execution_count": 35,
     "data": {
      "application/vnd.deepnote.dataframe.v3+json": {
       "column_count": 12,
       "row_count": 150,
       "columns": [
        {
         "name": "ID",
         "dtype": "int64",
         "stats": {
          "unique_count": 150,
          "nan_count": 0,
          "min": "1",
          "max": "150",
          "histogram": [
           {
            "bin_start": 1,
            "bin_end": 15.9,
            "count": 15
           },
           {
            "bin_start": 15.9,
            "bin_end": 30.8,
            "count": 15
           },
           {
            "bin_start": 30.8,
            "bin_end": 45.7,
            "count": 15
           },
           {
            "bin_start": 45.7,
            "bin_end": 60.6,
            "count": 15
           },
           {
            "bin_start": 60.6,
            "bin_end": 75.5,
            "count": 15
           },
           {
            "bin_start": 75.5,
            "bin_end": 90.4,
            "count": 15
           },
           {
            "bin_start": 90.4,
            "bin_end": 105.3,
            "count": 15
           },
           {
            "bin_start": 105.3,
            "bin_end": 120.2,
            "count": 15
           },
           {
            "bin_start": 120.2,
            "bin_end": 135.1,
            "count": 15
           },
           {
            "bin_start": 135.1,
            "bin_end": 150,
            "count": 15
           }
          ]
         }
        },
        {
         "name": "I1",
         "dtype": "float64",
         "stats": {
          "unique_count": 3,
          "nan_count": 0,
          "min": "1.0",
          "max": "5.0",
          "histogram": [
           {
            "bin_start": 1,
            "bin_end": 1.4,
            "count": 55
           },
           {
            "bin_start": 1.4,
            "bin_end": 1.8,
            "count": 0
           },
           {
            "bin_start": 1.8,
            "bin_end": 2.2,
            "count": 5
           },
           {
            "bin_start": 2.2,
            "bin_end": 2.6,
            "count": 0
           },
           {
            "bin_start": 2.6,
            "bin_end": 3,
            "count": 0
           },
           {
            "bin_start": 3,
            "bin_end": 3.4000000000000004,
            "count": 0
           },
           {
            "bin_start": 3.4000000000000004,
            "bin_end": 3.8000000000000003,
            "count": 0
           },
           {
            "bin_start": 3.8000000000000003,
            "bin_end": 4.2,
            "count": 0
           },
           {
            "bin_start": 4.2,
            "bin_end": 4.6,
            "count": 0
           },
           {
            "bin_start": 4.6,
            "bin_end": 5,
            "count": 90
           }
          ]
         }
        },
        {
         "name": "I2",
         "dtype": "float64",
         "stats": {
          "unique_count": 5,
          "nan_count": 0,
          "min": "1.0",
          "max": "5.0",
          "histogram": [
           {
            "bin_start": 1,
            "bin_end": 1.4,
            "count": 18
           },
           {
            "bin_start": 1.4,
            "bin_end": 1.8,
            "count": 0
           },
           {
            "bin_start": 1.8,
            "bin_end": 2.2,
            "count": 34
           },
           {
            "bin_start": 2.2,
            "bin_end": 2.6,
            "count": 0
           },
           {
            "bin_start": 2.6,
            "bin_end": 3,
            "count": 0
           },
           {
            "bin_start": 3,
            "bin_end": 3.4000000000000004,
            "count": 35
           },
           {
            "bin_start": 3.4000000000000004,
            "bin_end": 3.8000000000000003,
            "count": 0
           },
           {
            "bin_start": 3.8000000000000003,
            "bin_end": 4.2,
            "count": 23
           },
           {
            "bin_start": 4.2,
            "bin_end": 4.6,
            "count": 0
           },
           {
            "bin_start": 4.6,
            "bin_end": 5,
            "count": 40
           }
          ]
         }
        },
        {
         "name": "I3",
         "dtype": "float64",
         "stats": {
          "unique_count": 5,
          "nan_count": 0,
          "min": "1.0",
          "max": "5.0",
          "histogram": [
           {
            "bin_start": 1,
            "bin_end": 1.4,
            "count": 5
           },
           {
            "bin_start": 1.4,
            "bin_end": 1.8,
            "count": 0
           },
           {
            "bin_start": 1.8,
            "bin_end": 2.2,
            "count": 20
           },
           {
            "bin_start": 2.2,
            "bin_end": 2.6,
            "count": 0
           },
           {
            "bin_start": 2.6,
            "bin_end": 3,
            "count": 0
           },
           {
            "bin_start": 3,
            "bin_end": 3.4000000000000004,
            "count": 5
           },
           {
            "bin_start": 3.4000000000000004,
            "bin_end": 3.8000000000000003,
            "count": 0
           },
           {
            "bin_start": 3.8000000000000003,
            "bin_end": 4.2,
            "count": 1
           },
           {
            "bin_start": 4.2,
            "bin_end": 4.6,
            "count": 0
           },
           {
            "bin_start": 4.6,
            "bin_end": 5,
            "count": 119
           }
          ]
         }
        },
        {
         "name": "I4",
         "dtype": "float64",
         "stats": {
          "unique_count": 4,
          "nan_count": 0,
          "min": "1.0",
          "max": "5.0",
          "histogram": [
           {
            "bin_start": 1,
            "bin_end": 1.4,
            "count": 54
           },
           {
            "bin_start": 1.4,
            "bin_end": 1.8,
            "count": 0
           },
           {
            "bin_start": 1.8,
            "bin_end": 2.2,
            "count": 21
           },
           {
            "bin_start": 2.2,
            "bin_end": 2.6,
            "count": 0
           },
           {
            "bin_start": 2.6,
            "bin_end": 3,
            "count": 0
           },
           {
            "bin_start": 3,
            "bin_end": 3.4000000000000004,
            "count": 15
           },
           {
            "bin_start": 3.4000000000000004,
            "bin_end": 3.8000000000000003,
            "count": 0
           },
           {
            "bin_start": 3.8000000000000003,
            "bin_end": 4.2,
            "count": 0
           },
           {
            "bin_start": 4.2,
            "bin_end": 4.6,
            "count": 0
           },
           {
            "bin_start": 4.6,
            "bin_end": 5,
            "count": 60
           }
          ]
         }
        },
        {
         "name": "I5",
         "dtype": "float64",
         "stats": {
          "unique_count": 4,
          "nan_count": 0,
          "min": "1.0",
          "max": "5.0",
          "histogram": [
           {
            "bin_start": 1,
            "bin_end": 1.4,
            "count": 57
           },
           {
            "bin_start": 1.4,
            "bin_end": 1.8,
            "count": 0
           },
           {
            "bin_start": 1.8,
            "bin_end": 2.2,
            "count": 49
           },
           {
            "bin_start": 2.2,
            "bin_end": 2.6,
            "count": 0
           },
           {
            "bin_start": 2.6,
            "bin_end": 3,
            "count": 0
           },
           {
            "bin_start": 3,
            "bin_end": 3.4000000000000004,
            "count": 14
           },
           {
            "bin_start": 3.4000000000000004,
            "bin_end": 3.8000000000000003,
            "count": 0
           },
           {
            "bin_start": 3.8000000000000003,
            "bin_end": 4.2,
            "count": 0
           },
           {
            "bin_start": 4.2,
            "bin_end": 4.6,
            "count": 0
           },
           {
            "bin_start": 4.6,
            "bin_end": 5,
            "count": 30
           }
          ]
         }
        },
        {
         "name": "I6",
         "dtype": "float64",
         "stats": {
          "unique_count": 5,
          "nan_count": 0,
          "min": "1.0",
          "max": "5.0",
          "histogram": [
           {
            "bin_start": 1,
            "bin_end": 1.4,
            "count": 7
           },
           {
            "bin_start": 1.4,
            "bin_end": 1.8,
            "count": 0
           },
           {
            "bin_start": 1.8,
            "bin_end": 2.2,
            "count": 44
           },
           {
            "bin_start": 2.2,
            "bin_end": 2.6,
            "count": 0
           },
           {
            "bin_start": 2.6,
            "bin_end": 3,
            "count": 0
           },
           {
            "bin_start": 3,
            "bin_end": 3.4000000000000004,
            "count": 34
           },
           {
            "bin_start": 3.4000000000000004,
            "bin_end": 3.8000000000000003,
            "count": 0
           },
           {
            "bin_start": 3.8000000000000003,
            "bin_end": 4.2,
            "count": 7
           },
           {
            "bin_start": 4.2,
            "bin_end": 4.6,
            "count": 0
           },
           {
            "bin_start": 4.6,
            "bin_end": 5,
            "count": 58
           }
          ]
         }
        },
        {
         "name": "I7",
         "dtype": "float64",
         "stats": {
          "unique_count": 5,
          "nan_count": 0,
          "min": "1.0",
          "max": "5.0",
          "histogram": [
           {
            "bin_start": 1,
            "bin_end": 1.4,
            "count": 44
           },
           {
            "bin_start": 1.4,
            "bin_end": 1.8,
            "count": 0
           },
           {
            "bin_start": 1.8,
            "bin_end": 2.2,
            "count": 16
           },
           {
            "bin_start": 2.2,
            "bin_end": 2.6,
            "count": 0
           },
           {
            "bin_start": 2.6,
            "bin_end": 3,
            "count": 0
           },
           {
            "bin_start": 3,
            "bin_end": 3.4000000000000004,
            "count": 1
           },
           {
            "bin_start": 3.4000000000000004,
            "bin_end": 3.8000000000000003,
            "count": 0
           },
           {
            "bin_start": 3.8000000000000003,
            "bin_end": 4.2,
            "count": 12
           },
           {
            "bin_start": 4.2,
            "bin_end": 4.6,
            "count": 0
           },
           {
            "bin_start": 4.6,
            "bin_end": 5,
            "count": 77
           }
          ]
         }
        },
        {
         "name": "I8",
         "dtype": "float64",
         "stats": {
          "unique_count": 3,
          "nan_count": 0,
          "min": "3.0",
          "max": "5.0",
          "histogram": [
           {
            "bin_start": 3,
            "bin_end": 3.2,
            "count": 16
           },
           {
            "bin_start": 3.2,
            "bin_end": 3.4,
            "count": 0
           },
           {
            "bin_start": 3.4,
            "bin_end": 3.6,
            "count": 0
           },
           {
            "bin_start": 3.6,
            "bin_end": 3.8,
            "count": 0
           },
           {
            "bin_start": 3.8,
            "bin_end": 4,
            "count": 0
           },
           {
            "bin_start": 4,
            "bin_end": 4.2,
            "count": 18
           },
           {
            "bin_start": 4.2,
            "bin_end": 4.4,
            "count": 0
           },
           {
            "bin_start": 4.4,
            "bin_end": 4.6,
            "count": 0
           },
           {
            "bin_start": 4.6,
            "bin_end": 4.8,
            "count": 0
           },
           {
            "bin_start": 4.8,
            "bin_end": 5,
            "count": 116
           }
          ]
         }
        },
        {
         "name": "PUNTAJE",
         "dtype": "float64",
         "stats": {
          "unique_count": 19,
          "nan_count": 0,
          "min": "17.0",
          "max": "37.0",
          "histogram": [
           {
            "bin_start": 17,
            "bin_end": 19,
            "count": 10
           },
           {
            "bin_start": 19,
            "bin_end": 21,
            "count": 14
           },
           {
            "bin_start": 21,
            "bin_end": 23,
            "count": 14
           },
           {
            "bin_start": 23,
            "bin_end": 25,
            "count": 16
           },
           {
            "bin_start": 25,
            "bin_end": 27,
            "count": 6
           },
           {
            "bin_start": 27,
            "bin_end": 29,
            "count": 2
           },
           {
            "bin_start": 29,
            "bin_end": 31,
            "count": 34
           },
           {
            "bin_start": 31,
            "bin_end": 33,
            "count": 23
           },
           {
            "bin_start": 33,
            "bin_end": 35,
            "count": 1
           },
           {
            "bin_start": 35,
            "bin_end": 37,
            "count": 30
           }
          ]
         }
        },
        {
         "name": "NOTA",
         "dtype": "float64",
         "stats": {
          "unique_count": 19,
          "nan_count": 0,
          "min": "3.1",
          "max": "6.4",
          "histogram": [
           {
            "bin_start": 3.1,
            "bin_end": 3.43,
            "count": 17
           },
           {
            "bin_start": 3.43,
            "bin_end": 3.7600000000000002,
            "count": 13
           },
           {
            "bin_start": 3.7600000000000002,
            "bin_end": 4.09,
            "count": 24
           },
           {
            "bin_start": 4.09,
            "bin_end": 4.42,
            "count": 6
           },
           {
            "bin_start": 4.42,
            "bin_end": 4.75,
            "count": 0
           },
           {
            "bin_start": 4.75,
            "bin_end": 5.08,
            "count": 13
           },
           {
            "bin_start": 5.08,
            "bin_end": 5.41,
            "count": 42
           },
           {
            "bin_start": 5.41,
            "bin_end": 5.74,
            "count": 5
           },
           {
            "bin_start": 5.74,
            "bin_end": 6.07,
            "count": 0
           },
           {
            "bin_start": 6.07,
            "bin_end": 6.4,
            "count": 30
           }
          ]
         }
        },
        {
         "name": "CATEGORIA",
         "dtype": "int64",
         "stats": {
          "unique_count": 4,
          "nan_count": 0,
          "min": "1",
          "max": "4",
          "histogram": [
           {
            "bin_start": 1,
            "bin_end": 1.3,
            "count": 30
           },
           {
            "bin_start": 1.3,
            "bin_end": 1.6,
            "count": 0
           },
           {
            "bin_start": 1.6,
            "bin_end": 1.9,
            "count": 0
           },
           {
            "bin_start": 1.9,
            "bin_end": 2.2,
            "count": 47
           },
           {
            "bin_start": 2.2,
            "bin_end": 2.5,
            "count": 0
           },
           {
            "bin_start": 2.5,
            "bin_end": 2.8,
            "count": 0
           },
           {
            "bin_start": 2.8,
            "bin_end": 3.1,
            "count": 27
           },
           {
            "bin_start": 3.1,
            "bin_end": 3.4,
            "count": 0
           },
           {
            "bin_start": 3.4,
            "bin_end": 3.6999999999999997,
            "count": 0
           },
           {
            "bin_start": 3.6999999999999997,
            "bin_end": 4,
            "count": 46
           }
          ]
         }
        },
        {
         "name": "_deepnote_index_column",
         "dtype": "int64"
        }
       ],
       "rows": [
        {
         "ID": 1,
         "I1": 1,
         "I2": 4,
         "I3": 2,
         "I4": 2,
         "I5": 2,
         "I6": 3,
         "I7": 2,
         "I8": 5,
         "PUNTAJE": 21,
         "NOTA": 3.6,
         "CATEGORIA": 4,
         "_deepnote_index_column": 0
        },
        {
         "ID": 2,
         "I1": 1,
         "I2": 4,
         "I3": 2,
         "I4": 1,
         "I5": 2,
         "I6": 3,
         "I7": 2,
         "I8": 5,
         "PUNTAJE": 20,
         "NOTA": 3.5,
         "CATEGORIA": 4,
         "_deepnote_index_column": 1
        },
        {
         "ID": 3,
         "I1": 1,
         "I2": 1,
         "I3": 5,
         "I4": 3,
         "I5": 2,
         "I6": 2,
         "I7": 5,
         "I8": 3,
         "PUNTAJE": 22,
         "NOTA": 3.8,
         "CATEGORIA": 4,
         "_deepnote_index_column": 2
        },
        {
         "ID": 4,
         "I1": 5,
         "I2": 3,
         "I3": 5,
         "I4": 5,
         "I5": 1,
         "I6": 2,
         "I7": 5,
         "I8": 5,
         "PUNTAJE": 31,
         "NOTA": 5.3,
         "CATEGORIA": 2,
         "_deepnote_index_column": 3
        },
        {
         "ID": 5,
         "I1": 1,
         "I2": 1,
         "I3": 5,
         "I4": 2,
         "I5": 3,
         "I6": 3,
         "I7": 5,
         "I8": 3,
         "PUNTAJE": 23,
         "NOTA": 3.9,
         "CATEGORIA": 4,
         "_deepnote_index_column": 4
        },
        {
         "ID": 6,
         "I1": 5,
         "I2": 3,
         "I3": 5,
         "I4": 1,
         "I5": 1,
         "I6": 5,
         "I7": 5,
         "I8": 5,
         "PUNTAJE": 30,
         "NOTA": 5.1,
         "CATEGORIA": 2,
         "_deepnote_index_column": 5
        },
        {
         "ID": 7,
         "I1": 5,
         "I2": 3,
         "I3": 5,
         "I4": 5,
         "I5": 1,
         "I6": 2,
         "I7": 4,
         "I8": 5,
         "PUNTAJE": 30,
         "NOTA": 5.1,
         "CATEGORIA": 2,
         "_deepnote_index_column": 6
        },
        {
         "ID": 8,
         "I1": 5,
         "I2": 5,
         "I3": 5,
         "I4": 5,
         "I5": 5,
         "I6": 5,
         "I7": 1,
         "I8": 5,
         "PUNTAJE": 36,
         "NOTA": 6.2,
         "CATEGORIA": 1,
         "_deepnote_index_column": 7
        },
        {
         "ID": 9,
         "I1": 1,
         "I2": 1,
         "I3": 5,
         "I4": 2,
         "I5": 2,
         "I6": 3,
         "I7": 5,
         "I8": 4,
         "PUNTAJE": 23,
         "NOTA": 3.9,
         "CATEGORIA": 4,
         "_deepnote_index_column": 8
        },
        {
         "ID": 10,
         "I1": 5,
         "I2": 3,
         "I3": 5,
         "I4": 5,
         "I5": 1,
         "I6": 2,
         "I7": 5,
         "I8": 5,
         "PUNTAJE": 31,
         "NOTA": 5.3,
         "CATEGORIA": 2,
         "_deepnote_index_column": 9
        }
       ]
      },
      "text/plain": "      ID   I1   I2   I3   I4   I5   I6   I7   I8  PUNTAJE  NOTA  CATEGORIA\n0      1  1.0  4.0  2.0  2.0  2.0  3.0  2.0  5.0     21.0   3.6          4\n1      2  1.0  4.0  2.0  1.0  2.0  3.0  2.0  5.0     20.0   3.5          4\n2      3  1.0  1.0  5.0  3.0  2.0  2.0  5.0  3.0     22.0   3.8          4\n3      4  5.0  3.0  5.0  5.0  1.0  2.0  5.0  5.0     31.0   5.3          2\n4      5  1.0  1.0  5.0  2.0  3.0  3.0  5.0  3.0     23.0   3.9          4\n..   ...  ...  ...  ...  ...  ...  ...  ...  ...      ...   ...        ...\n145  146  5.0  5.0  5.0  5.0  5.0  5.0  1.0  5.0     36.0   6.2          1\n146  147  1.0  2.0  5.0  3.0  3.0  3.0  5.0  4.0     26.0   4.4          3\n147  148  1.0  4.0  2.0  1.0  2.0  3.0  1.0  5.0     19.0   3.4          4\n148  149  5.0  3.0  5.0  5.0  1.0  2.0  5.0  5.0     31.0   5.3          2\n149  150  5.0  5.0  5.0  5.0  5.0  5.0  1.0  5.0     36.0   6.2          1\n\n[150 rows x 12 columns]",
      "text/html": "<div>\n<style scoped>\n    .dataframe tbody tr th:only-of-type {\n        vertical-align: middle;\n    }\n\n    .dataframe tbody tr th {\n        vertical-align: top;\n    }\n\n    .dataframe thead th {\n        text-align: right;\n    }\n</style>\n<table border=\"1\" class=\"dataframe\">\n  <thead>\n    <tr style=\"text-align: right;\">\n      <th></th>\n      <th>ID</th>\n      <th>I1</th>\n      <th>I2</th>\n      <th>I3</th>\n      <th>I4</th>\n      <th>I5</th>\n      <th>I6</th>\n      <th>I7</th>\n      <th>I8</th>\n      <th>PUNTAJE</th>\n      <th>NOTA</th>\n      <th>CATEGORIA</th>\n    </tr>\n  </thead>\n  <tbody>\n    <tr>\n      <th>0</th>\n      <td>1</td>\n      <td>1.0</td>\n      <td>4.0</td>\n      <td>2.0</td>\n      <td>2.0</td>\n      <td>2.0</td>\n      <td>3.0</td>\n      <td>2.0</td>\n      <td>5.0</td>\n      <td>21.0</td>\n      <td>3.6</td>\n      <td>4</td>\n    </tr>\n    <tr>\n      <th>1</th>\n      <td>2</td>\n      <td>1.0</td>\n      <td>4.0</td>\n      <td>2.0</td>\n      <td>1.0</td>\n      <td>2.0</td>\n      <td>3.0</td>\n      <td>2.0</td>\n      <td>5.0</td>\n      <td>20.0</td>\n      <td>3.5</td>\n      <td>4</td>\n    </tr>\n    <tr>\n      <th>2</th>\n      <td>3</td>\n      <td>1.0</td>\n      <td>1.0</td>\n      <td>5.0</td>\n      <td>3.0</td>\n      <td>2.0</td>\n      <td>2.0</td>\n      <td>5.0</td>\n      <td>3.0</td>\n      <td>22.0</td>\n      <td>3.8</td>\n      <td>4</td>\n    </tr>\n    <tr>\n      <th>3</th>\n      <td>4</td>\n      <td>5.0</td>\n      <td>3.0</td>\n      <td>5.0</td>\n      <td>5.0</td>\n      <td>1.0</td>\n      <td>2.0</td>\n      <td>5.0</td>\n      <td>5.0</td>\n      <td>31.0</td>\n      <td>5.3</td>\n      <td>2</td>\n    </tr>\n    <tr>\n      <th>4</th>\n      <td>5</td>\n      <td>1.0</td>\n      <td>1.0</td>\n      <td>5.0</td>\n      <td>2.0</td>\n      <td>3.0</td>\n      <td>3.0</td>\n      <td>5.0</td>\n      <td>3.0</td>\n      <td>23.0</td>\n      <td>3.9</td>\n      <td>4</td>\n    </tr>\n    <tr>\n      <th>...</th>\n      <td>...</td>\n      <td>...</td>\n      <td>...</td>\n      <td>...</td>\n      <td>...</td>\n      <td>...</td>\n      <td>...</td>\n      <td>...</td>\n      <td>...</td>\n      <td>...</td>\n      <td>...</td>\n      <td>...</td>\n    </tr>\n    <tr>\n      <th>145</th>\n      <td>146</td>\n      <td>5.0</td>\n      <td>5.0</td>\n      <td>5.0</td>\n      <td>5.0</td>\n      <td>5.0</td>\n      <td>5.0</td>\n      <td>1.0</td>\n      <td>5.0</td>\n      <td>36.0</td>\n      <td>6.2</td>\n      <td>1</td>\n    </tr>\n    <tr>\n      <th>146</th>\n      <td>147</td>\n      <td>1.0</td>\n      <td>2.0</td>\n      <td>5.0</td>\n      <td>3.0</td>\n      <td>3.0</td>\n      <td>3.0</td>\n      <td>5.0</td>\n      <td>4.0</td>\n      <td>26.0</td>\n      <td>4.4</td>\n      <td>3</td>\n    </tr>\n    <tr>\n      <th>147</th>\n      <td>148</td>\n      <td>1.0</td>\n      <td>4.0</td>\n      <td>2.0</td>\n      <td>1.0</td>\n      <td>2.0</td>\n      <td>3.0</td>\n      <td>1.0</td>\n      <td>5.0</td>\n      <td>19.0</td>\n      <td>3.4</td>\n      <td>4</td>\n    </tr>\n    <tr>\n      <th>148</th>\n      <td>149</td>\n      <td>5.0</td>\n      <td>3.0</td>\n      <td>5.0</td>\n      <td>5.0</td>\n      <td>1.0</td>\n      <td>2.0</td>\n      <td>5.0</td>\n      <td>5.0</td>\n      <td>31.0</td>\n      <td>5.3</td>\n      <td>2</td>\n    </tr>\n    <tr>\n      <th>149</th>\n      <td>150</td>\n      <td>5.0</td>\n      <td>5.0</td>\n      <td>5.0</td>\n      <td>5.0</td>\n      <td>5.0</td>\n      <td>5.0</td>\n      <td>1.0</td>\n      <td>5.0</td>\n      <td>36.0</td>\n      <td>6.2</td>\n      <td>1</td>\n    </tr>\n  </tbody>\n</table>\n<p>150 rows × 12 columns</p>\n</div>"
     },
     "metadata": {}
    }
   ]
  },
  {
   "cell_type": "code",
   "metadata": {
    "cell_id": "99e1c71a-4108-4203-9580-94a9b9978a59",
    "tags": [],
    "deepnote_to_be_reexecuted": false,
    "source_hash": "1a51cabc",
    "execution_start": 1644509653449,
    "execution_millis": 4,
    "deepnote_output_heights": [
     116.765625
    ],
    "deepnote_cell_type": "code"
   },
   "source": "# Revisión de distribución de cada categoría\ndata_frame.groupby('CATEGORIA').size()",
   "execution_count": null,
   "outputs": [
    {
     "output_type": "execute_result",
     "execution_count": 36,
     "data": {
      "text/plain": "CATEGORIA\n1    30\n2    47\n3    27\n4    46\ndtype: int64"
     },
     "metadata": {}
    }
   ]
  },
  {
   "cell_type": "code",
   "metadata": {
    "cell_id": "0b42099e-98f6-435f-ae04-bf7a2f911e0d",
    "tags": [],
    "deepnote_to_be_reexecuted": false,
    "source_hash": "67d8ef9f",
    "execution_start": 1644509664117,
    "execution_millis": 91,
    "deepnote_cell_type": "code"
   },
   "source": "data_frame.describe()",
   "execution_count": null,
   "outputs": [
    {
     "output_type": "execute_result",
     "execution_count": 37,
     "data": {
      "application/vnd.deepnote.dataframe.v3+json": {
       "column_count": 12,
       "row_count": 8,
       "columns": [
        {
         "name": "ID",
         "dtype": "float64",
         "stats": {
          "unique_count": 6,
          "nan_count": 0,
          "min": "1.0",
          "max": "150.0",
          "histogram": [
           {
            "bin_start": 1,
            "bin_end": 15.9,
            "count": 1
           },
           {
            "bin_start": 15.9,
            "bin_end": 30.8,
            "count": 0
           },
           {
            "bin_start": 30.8,
            "bin_end": 45.7,
            "count": 2
           },
           {
            "bin_start": 45.7,
            "bin_end": 60.6,
            "count": 0
           },
           {
            "bin_start": 60.6,
            "bin_end": 75.5,
            "count": 0
           },
           {
            "bin_start": 75.5,
            "bin_end": 90.4,
            "count": 2
           },
           {
            "bin_start": 90.4,
            "bin_end": 105.3,
            "count": 0
           },
           {
            "bin_start": 105.3,
            "bin_end": 120.2,
            "count": 1
           },
           {
            "bin_start": 120.2,
            "bin_end": 135.1,
            "count": 0
           },
           {
            "bin_start": 135.1,
            "bin_end": 150,
            "count": 2
           }
          ]
         }
        },
        {
         "name": "I1",
         "dtype": "float64",
         "stats": {
          "unique_count": 5,
          "nan_count": 0,
          "min": "1.0",
          "max": "150.0",
          "histogram": [
           {
            "bin_start": 1,
            "bin_end": 15.9,
            "count": 7
           },
           {
            "bin_start": 15.9,
            "bin_end": 30.8,
            "count": 0
           },
           {
            "bin_start": 30.8,
            "bin_end": 45.7,
            "count": 0
           },
           {
            "bin_start": 45.7,
            "bin_end": 60.6,
            "count": 0
           },
           {
            "bin_start": 60.6,
            "bin_end": 75.5,
            "count": 0
           },
           {
            "bin_start": 75.5,
            "bin_end": 90.4,
            "count": 0
           },
           {
            "bin_start": 90.4,
            "bin_end": 105.3,
            "count": 0
           },
           {
            "bin_start": 105.3,
            "bin_end": 120.2,
            "count": 0
           },
           {
            "bin_start": 120.2,
            "bin_end": 135.1,
            "count": 0
           },
           {
            "bin_start": 135.1,
            "bin_end": 150,
            "count": 1
           }
          ]
         }
        },
        {
         "name": "I2",
         "dtype": "float64",
         "stats": {
          "unique_count": 7,
          "nan_count": 0,
          "min": "1.0",
          "max": "150.0",
          "histogram": [
           {
            "bin_start": 1,
            "bin_end": 15.9,
            "count": 7
           },
           {
            "bin_start": 15.9,
            "bin_end": 30.8,
            "count": 0
           },
           {
            "bin_start": 30.8,
            "bin_end": 45.7,
            "count": 0
           },
           {
            "bin_start": 45.7,
            "bin_end": 60.6,
            "count": 0
           },
           {
            "bin_start": 60.6,
            "bin_end": 75.5,
            "count": 0
           },
           {
            "bin_start": 75.5,
            "bin_end": 90.4,
            "count": 0
           },
           {
            "bin_start": 90.4,
            "bin_end": 105.3,
            "count": 0
           },
           {
            "bin_start": 105.3,
            "bin_end": 120.2,
            "count": 0
           },
           {
            "bin_start": 120.2,
            "bin_end": 135.1,
            "count": 0
           },
           {
            "bin_start": 135.1,
            "bin_end": 150,
            "count": 1
           }
          ]
         }
        },
        {
         "name": "I3",
         "dtype": "float64",
         "stats": {
          "unique_count": 5,
          "nan_count": 0,
          "min": "1.0",
          "max": "150.0",
          "histogram": [
           {
            "bin_start": 1,
            "bin_end": 15.9,
            "count": 7
           },
           {
            "bin_start": 15.9,
            "bin_end": 30.8,
            "count": 0
           },
           {
            "bin_start": 30.8,
            "bin_end": 45.7,
            "count": 0
           },
           {
            "bin_start": 45.7,
            "bin_end": 60.6,
            "count": 0
           },
           {
            "bin_start": 60.6,
            "bin_end": 75.5,
            "count": 0
           },
           {
            "bin_start": 75.5,
            "bin_end": 90.4,
            "count": 0
           },
           {
            "bin_start": 90.4,
            "bin_end": 105.3,
            "count": 0
           },
           {
            "bin_start": 105.3,
            "bin_end": 120.2,
            "count": 0
           },
           {
            "bin_start": 120.2,
            "bin_end": 135.1,
            "count": 0
           },
           {
            "bin_start": 135.1,
            "bin_end": 150,
            "count": 1
           }
          ]
         }
        },
        {
         "name": "I4",
         "dtype": "float64",
         "stats": {
          "unique_count": 6,
          "nan_count": 0,
          "min": "1.0",
          "max": "150.0",
          "histogram": [
           {
            "bin_start": 1,
            "bin_end": 15.9,
            "count": 7
           },
           {
            "bin_start": 15.9,
            "bin_end": 30.8,
            "count": 0
           },
           {
            "bin_start": 30.8,
            "bin_end": 45.7,
            "count": 0
           },
           {
            "bin_start": 45.7,
            "bin_end": 60.6,
            "count": 0
           },
           {
            "bin_start": 60.6,
            "bin_end": 75.5,
            "count": 0
           },
           {
            "bin_start": 75.5,
            "bin_end": 90.4,
            "count": 0
           },
           {
            "bin_start": 90.4,
            "bin_end": 105.3,
            "count": 0
           },
           {
            "bin_start": 105.3,
            "bin_end": 120.2,
            "count": 0
           },
           {
            "bin_start": 120.2,
            "bin_end": 135.1,
            "count": 0
           },
           {
            "bin_start": 135.1,
            "bin_end": 150,
            "count": 1
           }
          ]
         }
        },
        {
         "name": "I5",
         "dtype": "float64",
         "stats": {
          "unique_count": 7,
          "nan_count": 0,
          "min": "1.0",
          "max": "150.0",
          "histogram": [
           {
            "bin_start": 1,
            "bin_end": 15.9,
            "count": 7
           },
           {
            "bin_start": 15.9,
            "bin_end": 30.8,
            "count": 0
           },
           {
            "bin_start": 30.8,
            "bin_end": 45.7,
            "count": 0
           },
           {
            "bin_start": 45.7,
            "bin_end": 60.6,
            "count": 0
           },
           {
            "bin_start": 60.6,
            "bin_end": 75.5,
            "count": 0
           },
           {
            "bin_start": 75.5,
            "bin_end": 90.4,
            "count": 0
           },
           {
            "bin_start": 90.4,
            "bin_end": 105.3,
            "count": 0
           },
           {
            "bin_start": 105.3,
            "bin_end": 120.2,
            "count": 0
           },
           {
            "bin_start": 120.2,
            "bin_end": 135.1,
            "count": 0
           },
           {
            "bin_start": 135.1,
            "bin_end": 150,
            "count": 1
           }
          ]
         }
        },
        {
         "name": "I6",
         "dtype": "float64",
         "stats": {
          "unique_count": 7,
          "nan_count": 0,
          "min": "1.0",
          "max": "150.0",
          "histogram": [
           {
            "bin_start": 1,
            "bin_end": 15.9,
            "count": 7
           },
           {
            "bin_start": 15.9,
            "bin_end": 30.8,
            "count": 0
           },
           {
            "bin_start": 30.8,
            "bin_end": 45.7,
            "count": 0
           },
           {
            "bin_start": 45.7,
            "bin_end": 60.6,
            "count": 0
           },
           {
            "bin_start": 60.6,
            "bin_end": 75.5,
            "count": 0
           },
           {
            "bin_start": 75.5,
            "bin_end": 90.4,
            "count": 0
           },
           {
            "bin_start": 90.4,
            "bin_end": 105.3,
            "count": 0
           },
           {
            "bin_start": 105.3,
            "bin_end": 120.2,
            "count": 0
           },
           {
            "bin_start": 120.2,
            "bin_end": 135.1,
            "count": 0
           },
           {
            "bin_start": 135.1,
            "bin_end": 150,
            "count": 1
           }
          ]
         }
        },
        {
         "name": "I7",
         "dtype": "float64",
         "stats": {
          "unique_count": 5,
          "nan_count": 0,
          "min": "1.0",
          "max": "150.0",
          "histogram": [
           {
            "bin_start": 1,
            "bin_end": 15.9,
            "count": 7
           },
           {
            "bin_start": 15.9,
            "bin_end": 30.8,
            "count": 0
           },
           {
            "bin_start": 30.8,
            "bin_end": 45.7,
            "count": 0
           },
           {
            "bin_start": 45.7,
            "bin_end": 60.6,
            "count": 0
           },
           {
            "bin_start": 60.6,
            "bin_end": 75.5,
            "count": 0
           },
           {
            "bin_start": 75.5,
            "bin_end": 90.4,
            "count": 0
           },
           {
            "bin_start": 90.4,
            "bin_end": 105.3,
            "count": 0
           },
           {
            "bin_start": 105.3,
            "bin_end": 120.2,
            "count": 0
           },
           {
            "bin_start": 120.2,
            "bin_end": 135.1,
            "count": 0
           },
           {
            "bin_start": 135.1,
            "bin_end": 150,
            "count": 1
           }
          ]
         }
        },
        {
         "name": "I8",
         "dtype": "float64",
         "stats": {
          "unique_count": 5,
          "nan_count": 0,
          "min": "0.6621772777765629",
          "max": "150.0",
          "histogram": [
           {
            "bin_start": 0.6621772777765629,
            "bin_end": 15.595959549998907,
            "count": 7
           },
           {
            "bin_start": 15.595959549998907,
            "bin_end": 30.529741822221254,
            "count": 0
           },
           {
            "bin_start": 30.529741822221254,
            "bin_end": 45.4635240944436,
            "count": 0
           },
           {
            "bin_start": 45.4635240944436,
            "bin_end": 60.397306366665944,
            "count": 0
           },
           {
            "bin_start": 60.397306366665944,
            "bin_end": 75.33108863888829,
            "count": 0
           },
           {
            "bin_start": 75.33108863888829,
            "bin_end": 90.26487091111063,
            "count": 0
           },
           {
            "bin_start": 90.26487091111063,
            "bin_end": 105.19865318333298,
            "count": 0
           },
           {
            "bin_start": 105.19865318333298,
            "bin_end": 120.13243545555532,
            "count": 0
           },
           {
            "bin_start": 120.13243545555532,
            "bin_end": 135.06621772777765,
            "count": 0
           },
           {
            "bin_start": 135.06621772777765,
            "bin_end": 150,
            "count": 1
           }
          ]
         }
        },
        {
         "name": "PUNTAJE",
         "dtype": "float64",
         "stats": {
          "unique_count": 8,
          "nan_count": 0,
          "min": "5.936336368961804",
          "max": "150.0",
          "histogram": [
           {
            "bin_start": 5.936336368961804,
            "bin_end": 20.342702732065625,
            "count": 2
           },
           {
            "bin_start": 20.342702732065625,
            "bin_end": 34.749069095169446,
            "count": 4
           },
           {
            "bin_start": 34.749069095169446,
            "bin_end": 49.15543545827326,
            "count": 1
           },
           {
            "bin_start": 49.15543545827326,
            "bin_end": 63.56180182137708,
            "count": 0
           },
           {
            "bin_start": 63.56180182137708,
            "bin_end": 77.9681681844809,
            "count": 0
           },
           {
            "bin_start": 77.9681681844809,
            "bin_end": 92.37453454758472,
            "count": 0
           },
           {
            "bin_start": 92.37453454758472,
            "bin_end": 106.78090091068854,
            "count": 0
           },
           {
            "bin_start": 106.78090091068854,
            "bin_end": 121.18726727379236,
            "count": 0
           },
           {
            "bin_start": 121.18726727379236,
            "bin_end": 135.5936336368962,
            "count": 0
           },
           {
            "bin_start": 135.5936336368962,
            "bin_end": 150,
            "count": 1
           }
          ]
         }
        },
        {
         "name": "NOTA",
         "dtype": "float64",
         "stats": {
          "unique_count": 8,
          "nan_count": 0,
          "min": "1.0030381142374278",
          "max": "150.0",
          "histogram": [
           {
            "bin_start": 1.0030381142374278,
            "bin_end": 15.902734302813686,
            "count": 7
           },
           {
            "bin_start": 15.902734302813686,
            "bin_end": 30.80243049138994,
            "count": 0
           },
           {
            "bin_start": 30.80243049138994,
            "bin_end": 45.7021266799662,
            "count": 0
           },
           {
            "bin_start": 45.7021266799662,
            "bin_end": 60.601822868542456,
            "count": 0
           },
           {
            "bin_start": 60.601822868542456,
            "bin_end": 75.50151905711871,
            "count": 0
           },
           {
            "bin_start": 75.50151905711871,
            "bin_end": 90.40121524569497,
            "count": 0
           },
           {
            "bin_start": 90.40121524569497,
            "bin_end": 105.30091143427123,
            "count": 0
           },
           {
            "bin_start": 105.30091143427123,
            "bin_end": 120.20060762284749,
            "count": 0
           },
           {
            "bin_start": 120.20060762284749,
            "bin_end": 135.10030381142374,
            "count": 0
           },
           {
            "bin_start": 135.10030381142374,
            "bin_end": 150,
            "count": 1
           }
          ]
         }
        },
        {
         "name": "CATEGORIA",
         "dtype": "float64",
         "stats": {
          "unique_count": 6,
          "nan_count": 0,
          "min": "1.0",
          "max": "150.0",
          "histogram": [
           {
            "bin_start": 1,
            "bin_end": 15.9,
            "count": 7
           },
           {
            "bin_start": 15.9,
            "bin_end": 30.8,
            "count": 0
           },
           {
            "bin_start": 30.8,
            "bin_end": 45.7,
            "count": 0
           },
           {
            "bin_start": 45.7,
            "bin_end": 60.6,
            "count": 0
           },
           {
            "bin_start": 60.6,
            "bin_end": 75.5,
            "count": 0
           },
           {
            "bin_start": 75.5,
            "bin_end": 90.4,
            "count": 0
           },
           {
            "bin_start": 90.4,
            "bin_end": 105.3,
            "count": 0
           },
           {
            "bin_start": 105.3,
            "bin_end": 120.2,
            "count": 0
           },
           {
            "bin_start": 120.2,
            "bin_end": 135.1,
            "count": 0
           },
           {
            "bin_start": 135.1,
            "bin_end": 150,
            "count": 1
           }
          ]
         }
        },
        {
         "name": "_deepnote_index_column",
         "dtype": "object"
        }
       ],
       "rows": [
        {
         "ID": 150,
         "I1": 150,
         "I2": 150,
         "I3": 150,
         "I4": 150,
         "I5": 150,
         "I6": 150,
         "I7": 150,
         "I8": 150,
         "PUNTAJE": 150,
         "NOTA": 150,
         "CATEGORIA": 150,
         "_deepnote_index_column": "count"
        },
        {
         "ID": 75.5,
         "I1": 3.433333333333333,
         "I2": 3.22,
         "I3": 4.3933333333333335,
         "I4": 2.94,
         "I5": 2.3133333333333335,
         "I6": 3.433333333333333,
         "I7": 3.4133333333333336,
         "I8": 4.666666666666667,
         "PUNTAJE": 27.813333333333333,
         "NOTA": 4.771333333333333,
         "CATEGORIA": 2.5933333333333333,
         "_deepnote_index_column": "mean"
        },
        {
         "ID": 43.445367992456916,
         "I1": 1.9331674695494916,
         "I2": 1.3750899909538563,
         "I3": 1.23101238778553,
         "I4": 1.7882164636322329,
         "I5": 1.4797817119388974,
         "I6": 1.3777555265095982,
         "I7": 1.8067237086184806,
         "I8": 0.6621772777765629,
         "PUNTAJE": 5.936336368961804,
         "NOTA": 1.0030381142374278,
         "CATEGORIA": 1.1238516386039756,
         "_deepnote_index_column": "std"
        },
        {
         "ID": 1,
         "I1": 1,
         "I2": 1,
         "I3": 1,
         "I4": 1,
         "I5": 1,
         "I6": 1,
         "I7": 1,
         "I8": 3,
         "PUNTAJE": 17,
         "NOTA": 3.1,
         "CATEGORIA": 1,
         "_deepnote_index_column": "min"
        },
        {
         "ID": 38.25,
         "I1": 1,
         "I2": 2,
         "I3": 5,
         "I4": 1,
         "I5": 1,
         "I6": 2,
         "I7": 1,
         "I8": 5,
         "PUNTAJE": 22.25,
         "NOTA": 3.8249999999999997,
         "CATEGORIA": 2,
         "_deepnote_index_column": "25%"
        },
        {
         "ID": 75.5,
         "I1": 5,
         "I2": 3,
         "I3": 5,
         "I4": 2.5,
         "I5": 2,
         "I6": 3,
         "I7": 5,
         "I8": 5,
         "PUNTAJE": 30,
         "NOTA": 5.1,
         "CATEGORIA": 2,
         "_deepnote_index_column": "50%"
        },
        {
         "ID": 112.75,
         "I1": 5,
         "I2": 5,
         "I3": 5,
         "I4": 5,
         "I5": 3,
         "I6": 5,
         "I7": 5,
         "I8": 5,
         "PUNTAJE": 31,
         "NOTA": 5.3,
         "CATEGORIA": 4,
         "_deepnote_index_column": "75%"
        },
        {
         "ID": 150,
         "I1": 5,
         "I2": 5,
         "I3": 5,
         "I4": 5,
         "I5": 5,
         "I6": 5,
         "I7": 5,
         "I8": 5,
         "PUNTAJE": 37,
         "NOTA": 6.4,
         "CATEGORIA": 4,
         "_deepnote_index_column": "max"
        }
       ]
      },
      "text/plain": "               ID          I1         I2          I3          I4          I5  \\\ncount  150.000000  150.000000  150.00000  150.000000  150.000000  150.000000   \nmean    75.500000    3.433333    3.22000    4.393333    2.940000    2.313333   \nstd     43.445368    1.933167    1.37509    1.231012    1.788216    1.479782   \nmin      1.000000    1.000000    1.00000    1.000000    1.000000    1.000000   \n25%     38.250000    1.000000    2.00000    5.000000    1.000000    1.000000   \n50%     75.500000    5.000000    3.00000    5.000000    2.500000    2.000000   \n75%    112.750000    5.000000    5.00000    5.000000    5.000000    3.000000   \nmax    150.000000    5.000000    5.00000    5.000000    5.000000    5.000000   \n\n               I6          I7          I8     PUNTAJE        NOTA   CATEGORIA  \ncount  150.000000  150.000000  150.000000  150.000000  150.000000  150.000000  \nmean     3.433333    3.413333    4.666667   27.813333    4.771333    2.593333  \nstd      1.377756    1.806724    0.662177    5.936336    1.003038    1.123852  \nmin      1.000000    1.000000    3.000000   17.000000    3.100000    1.000000  \n25%      2.000000    1.000000    5.000000   22.250000    3.825000    2.000000  \n50%      3.000000    5.000000    5.000000   30.000000    5.100000    2.000000  \n75%      5.000000    5.000000    5.000000   31.000000    5.300000    4.000000  \nmax      5.000000    5.000000    5.000000   37.000000    6.400000    4.000000  ",
      "text/html": "<div>\n<style scoped>\n    .dataframe tbody tr th:only-of-type {\n        vertical-align: middle;\n    }\n\n    .dataframe tbody tr th {\n        vertical-align: top;\n    }\n\n    .dataframe thead th {\n        text-align: right;\n    }\n</style>\n<table border=\"1\" class=\"dataframe\">\n  <thead>\n    <tr style=\"text-align: right;\">\n      <th></th>\n      <th>ID</th>\n      <th>I1</th>\n      <th>I2</th>\n      <th>I3</th>\n      <th>I4</th>\n      <th>I5</th>\n      <th>I6</th>\n      <th>I7</th>\n      <th>I8</th>\n      <th>PUNTAJE</th>\n      <th>NOTA</th>\n      <th>CATEGORIA</th>\n    </tr>\n  </thead>\n  <tbody>\n    <tr>\n      <th>count</th>\n      <td>150.000000</td>\n      <td>150.000000</td>\n      <td>150.00000</td>\n      <td>150.000000</td>\n      <td>150.000000</td>\n      <td>150.000000</td>\n      <td>150.000000</td>\n      <td>150.000000</td>\n      <td>150.000000</td>\n      <td>150.000000</td>\n      <td>150.000000</td>\n      <td>150.000000</td>\n    </tr>\n    <tr>\n      <th>mean</th>\n      <td>75.500000</td>\n      <td>3.433333</td>\n      <td>3.22000</td>\n      <td>4.393333</td>\n      <td>2.940000</td>\n      <td>2.313333</td>\n      <td>3.433333</td>\n      <td>3.413333</td>\n      <td>4.666667</td>\n      <td>27.813333</td>\n      <td>4.771333</td>\n      <td>2.593333</td>\n    </tr>\n    <tr>\n      <th>std</th>\n      <td>43.445368</td>\n      <td>1.933167</td>\n      <td>1.37509</td>\n      <td>1.231012</td>\n      <td>1.788216</td>\n      <td>1.479782</td>\n      <td>1.377756</td>\n      <td>1.806724</td>\n      <td>0.662177</td>\n      <td>5.936336</td>\n      <td>1.003038</td>\n      <td>1.123852</td>\n    </tr>\n    <tr>\n      <th>min</th>\n      <td>1.000000</td>\n      <td>1.000000</td>\n      <td>1.00000</td>\n      <td>1.000000</td>\n      <td>1.000000</td>\n      <td>1.000000</td>\n      <td>1.000000</td>\n      <td>1.000000</td>\n      <td>3.000000</td>\n      <td>17.000000</td>\n      <td>3.100000</td>\n      <td>1.000000</td>\n    </tr>\n    <tr>\n      <th>25%</th>\n      <td>38.250000</td>\n      <td>1.000000</td>\n      <td>2.00000</td>\n      <td>5.000000</td>\n      <td>1.000000</td>\n      <td>1.000000</td>\n      <td>2.000000</td>\n      <td>1.000000</td>\n      <td>5.000000</td>\n      <td>22.250000</td>\n      <td>3.825000</td>\n      <td>2.000000</td>\n    </tr>\n    <tr>\n      <th>50%</th>\n      <td>75.500000</td>\n      <td>5.000000</td>\n      <td>3.00000</td>\n      <td>5.000000</td>\n      <td>2.500000</td>\n      <td>2.000000</td>\n      <td>3.000000</td>\n      <td>5.000000</td>\n      <td>5.000000</td>\n      <td>30.000000</td>\n      <td>5.100000</td>\n      <td>2.000000</td>\n    </tr>\n    <tr>\n      <th>75%</th>\n      <td>112.750000</td>\n      <td>5.000000</td>\n      <td>5.00000</td>\n      <td>5.000000</td>\n      <td>5.000000</td>\n      <td>3.000000</td>\n      <td>5.000000</td>\n      <td>5.000000</td>\n      <td>5.000000</td>\n      <td>31.000000</td>\n      <td>5.300000</td>\n      <td>4.000000</td>\n    </tr>\n    <tr>\n      <th>max</th>\n      <td>150.000000</td>\n      <td>5.000000</td>\n      <td>5.00000</td>\n      <td>5.000000</td>\n      <td>5.000000</td>\n      <td>5.000000</td>\n      <td>5.000000</td>\n      <td>5.000000</td>\n      <td>5.000000</td>\n      <td>37.000000</td>\n      <td>6.400000</td>\n      <td>4.000000</td>\n    </tr>\n  </tbody>\n</table>\n</div>"
     },
     "metadata": {}
    }
   ]
  },
  {
   "cell_type": "code",
   "metadata": {
    "cell_id": "79ab2c57-053f-44cd-8081-4ac8fa2ab167",
    "tags": [],
    "deepnote_to_be_reexecuted": false,
    "source_hash": "c375697c",
    "execution_start": 1644509685972,
    "execution_millis": 2196,
    "deepnote_cell_type": "code"
   },
   "source": "data_frame.to_csv(\"Simulation_data.csv\", index = False)",
   "execution_count": null,
   "outputs": []
  },
  {
   "cell_type": "code",
   "metadata": {
    "cell_id": "607868e5-5979-4a53-96b6-f15d0e4fa70b",
    "tags": [],
    "deepnote_to_be_reexecuted": false,
    "source_hash": "caca3bd0",
    "execution_start": 1644509698201,
    "execution_millis": 66,
    "deepnote_output_heights": [
     21.109375,
     249.96875
    ],
    "deepnote_cell_type": "code"
   },
   "source": "df_students = pd.read_csv(\"Simulation_data.csv\")\ndf_students.head()",
   "execution_count": null,
   "outputs": [
    {
     "output_type": "execute_result",
     "execution_count": 39,
     "data": {
      "application/vnd.deepnote.dataframe.v3+json": {
       "column_count": 12,
       "row_count": 5,
       "columns": [
        {
         "name": "ID",
         "dtype": "int64",
         "stats": {
          "unique_count": 5,
          "nan_count": 0,
          "min": "1",
          "max": "5",
          "histogram": [
           {
            "bin_start": 1,
            "bin_end": 1.4,
            "count": 1
           },
           {
            "bin_start": 1.4,
            "bin_end": 1.8,
            "count": 0
           },
           {
            "bin_start": 1.8,
            "bin_end": 2.2,
            "count": 1
           },
           {
            "bin_start": 2.2,
            "bin_end": 2.6,
            "count": 0
           },
           {
            "bin_start": 2.6,
            "bin_end": 3,
            "count": 0
           },
           {
            "bin_start": 3,
            "bin_end": 3.4000000000000004,
            "count": 1
           },
           {
            "bin_start": 3.4000000000000004,
            "bin_end": 3.8000000000000003,
            "count": 0
           },
           {
            "bin_start": 3.8000000000000003,
            "bin_end": 4.2,
            "count": 1
           },
           {
            "bin_start": 4.2,
            "bin_end": 4.6,
            "count": 0
           },
           {
            "bin_start": 4.6,
            "bin_end": 5,
            "count": 1
           }
          ]
         }
        },
        {
         "name": "I1",
         "dtype": "float64",
         "stats": {
          "unique_count": 2,
          "nan_count": 0,
          "min": "1.0",
          "max": "5.0",
          "histogram": [
           {
            "bin_start": 1,
            "bin_end": 1.4,
            "count": 4
           },
           {
            "bin_start": 1.4,
            "bin_end": 1.8,
            "count": 0
           },
           {
            "bin_start": 1.8,
            "bin_end": 2.2,
            "count": 0
           },
           {
            "bin_start": 2.2,
            "bin_end": 2.6,
            "count": 0
           },
           {
            "bin_start": 2.6,
            "bin_end": 3,
            "count": 0
           },
           {
            "bin_start": 3,
            "bin_end": 3.4000000000000004,
            "count": 0
           },
           {
            "bin_start": 3.4000000000000004,
            "bin_end": 3.8000000000000003,
            "count": 0
           },
           {
            "bin_start": 3.8000000000000003,
            "bin_end": 4.2,
            "count": 0
           },
           {
            "bin_start": 4.2,
            "bin_end": 4.6,
            "count": 0
           },
           {
            "bin_start": 4.6,
            "bin_end": 5,
            "count": 1
           }
          ]
         }
        },
        {
         "name": "I2",
         "dtype": "float64",
         "stats": {
          "unique_count": 3,
          "nan_count": 0,
          "min": "1.0",
          "max": "4.0",
          "histogram": [
           {
            "bin_start": 1,
            "bin_end": 1.3,
            "count": 2
           },
           {
            "bin_start": 1.3,
            "bin_end": 1.6,
            "count": 0
           },
           {
            "bin_start": 1.6,
            "bin_end": 1.9,
            "count": 0
           },
           {
            "bin_start": 1.9,
            "bin_end": 2.2,
            "count": 0
           },
           {
            "bin_start": 2.2,
            "bin_end": 2.5,
            "count": 0
           },
           {
            "bin_start": 2.5,
            "bin_end": 2.8,
            "count": 0
           },
           {
            "bin_start": 2.8,
            "bin_end": 3.1,
            "count": 1
           },
           {
            "bin_start": 3.1,
            "bin_end": 3.4,
            "count": 0
           },
           {
            "bin_start": 3.4,
            "bin_end": 3.6999999999999997,
            "count": 0
           },
           {
            "bin_start": 3.6999999999999997,
            "bin_end": 4,
            "count": 2
           }
          ]
         }
        },
        {
         "name": "I3",
         "dtype": "float64",
         "stats": {
          "unique_count": 2,
          "nan_count": 0,
          "min": "2.0",
          "max": "5.0",
          "histogram": [
           {
            "bin_start": 2,
            "bin_end": 2.3,
            "count": 2
           },
           {
            "bin_start": 2.3,
            "bin_end": 2.6,
            "count": 0
           },
           {
            "bin_start": 2.6,
            "bin_end": 2.9,
            "count": 0
           },
           {
            "bin_start": 2.9,
            "bin_end": 3.2,
            "count": 0
           },
           {
            "bin_start": 3.2,
            "bin_end": 3.5,
            "count": 0
           },
           {
            "bin_start": 3.5,
            "bin_end": 3.8,
            "count": 0
           },
           {
            "bin_start": 3.8,
            "bin_end": 4.1,
            "count": 0
           },
           {
            "bin_start": 4.1,
            "bin_end": 4.4,
            "count": 0
           },
           {
            "bin_start": 4.4,
            "bin_end": 4.699999999999999,
            "count": 0
           },
           {
            "bin_start": 4.699999999999999,
            "bin_end": 5,
            "count": 3
           }
          ]
         }
        },
        {
         "name": "I4",
         "dtype": "float64",
         "stats": {
          "unique_count": 4,
          "nan_count": 0,
          "min": "1.0",
          "max": "5.0",
          "histogram": [
           {
            "bin_start": 1,
            "bin_end": 1.4,
            "count": 1
           },
           {
            "bin_start": 1.4,
            "bin_end": 1.8,
            "count": 0
           },
           {
            "bin_start": 1.8,
            "bin_end": 2.2,
            "count": 2
           },
           {
            "bin_start": 2.2,
            "bin_end": 2.6,
            "count": 0
           },
           {
            "bin_start": 2.6,
            "bin_end": 3,
            "count": 0
           },
           {
            "bin_start": 3,
            "bin_end": 3.4000000000000004,
            "count": 1
           },
           {
            "bin_start": 3.4000000000000004,
            "bin_end": 3.8000000000000003,
            "count": 0
           },
           {
            "bin_start": 3.8000000000000003,
            "bin_end": 4.2,
            "count": 0
           },
           {
            "bin_start": 4.2,
            "bin_end": 4.6,
            "count": 0
           },
           {
            "bin_start": 4.6,
            "bin_end": 5,
            "count": 1
           }
          ]
         }
        },
        {
         "name": "I5",
         "dtype": "float64",
         "stats": {
          "unique_count": 3,
          "nan_count": 0,
          "min": "1.0",
          "max": "3.0",
          "histogram": [
           {
            "bin_start": 1,
            "bin_end": 1.2,
            "count": 1
           },
           {
            "bin_start": 1.2,
            "bin_end": 1.4,
            "count": 0
           },
           {
            "bin_start": 1.4,
            "bin_end": 1.6,
            "count": 0
           },
           {
            "bin_start": 1.6,
            "bin_end": 1.8,
            "count": 0
           },
           {
            "bin_start": 1.8,
            "bin_end": 2,
            "count": 0
           },
           {
            "bin_start": 2,
            "bin_end": 2.2,
            "count": 3
           },
           {
            "bin_start": 2.2,
            "bin_end": 2.4000000000000004,
            "count": 0
           },
           {
            "bin_start": 2.4000000000000004,
            "bin_end": 2.6,
            "count": 0
           },
           {
            "bin_start": 2.6,
            "bin_end": 2.8,
            "count": 0
           },
           {
            "bin_start": 2.8,
            "bin_end": 3,
            "count": 1
           }
          ]
         }
        },
        {
         "name": "I6",
         "dtype": "float64",
         "stats": {
          "unique_count": 2,
          "nan_count": 0,
          "min": "2.0",
          "max": "3.0",
          "histogram": [
           {
            "bin_start": 2,
            "bin_end": 2.1,
            "count": 2
           },
           {
            "bin_start": 2.1,
            "bin_end": 2.2,
            "count": 0
           },
           {
            "bin_start": 2.2,
            "bin_end": 2.3,
            "count": 0
           },
           {
            "bin_start": 2.3,
            "bin_end": 2.4,
            "count": 0
           },
           {
            "bin_start": 2.4,
            "bin_end": 2.5,
            "count": 0
           },
           {
            "bin_start": 2.5,
            "bin_end": 2.6,
            "count": 0
           },
           {
            "bin_start": 2.6,
            "bin_end": 2.7,
            "count": 0
           },
           {
            "bin_start": 2.7,
            "bin_end": 2.8,
            "count": 0
           },
           {
            "bin_start": 2.8,
            "bin_end": 2.9,
            "count": 0
           },
           {
            "bin_start": 2.9,
            "bin_end": 3,
            "count": 3
           }
          ]
         }
        },
        {
         "name": "I7",
         "dtype": "float64",
         "stats": {
          "unique_count": 2,
          "nan_count": 0,
          "min": "2.0",
          "max": "5.0",
          "histogram": [
           {
            "bin_start": 2,
            "bin_end": 2.3,
            "count": 2
           },
           {
            "bin_start": 2.3,
            "bin_end": 2.6,
            "count": 0
           },
           {
            "bin_start": 2.6,
            "bin_end": 2.9,
            "count": 0
           },
           {
            "bin_start": 2.9,
            "bin_end": 3.2,
            "count": 0
           },
           {
            "bin_start": 3.2,
            "bin_end": 3.5,
            "count": 0
           },
           {
            "bin_start": 3.5,
            "bin_end": 3.8,
            "count": 0
           },
           {
            "bin_start": 3.8,
            "bin_end": 4.1,
            "count": 0
           },
           {
            "bin_start": 4.1,
            "bin_end": 4.4,
            "count": 0
           },
           {
            "bin_start": 4.4,
            "bin_end": 4.699999999999999,
            "count": 0
           },
           {
            "bin_start": 4.699999999999999,
            "bin_end": 5,
            "count": 3
           }
          ]
         }
        },
        {
         "name": "I8",
         "dtype": "float64",
         "stats": {
          "unique_count": 2,
          "nan_count": 0,
          "min": "3.0",
          "max": "5.0",
          "histogram": [
           {
            "bin_start": 3,
            "bin_end": 3.2,
            "count": 2
           },
           {
            "bin_start": 3.2,
            "bin_end": 3.4,
            "count": 0
           },
           {
            "bin_start": 3.4,
            "bin_end": 3.6,
            "count": 0
           },
           {
            "bin_start": 3.6,
            "bin_end": 3.8,
            "count": 0
           },
           {
            "bin_start": 3.8,
            "bin_end": 4,
            "count": 0
           },
           {
            "bin_start": 4,
            "bin_end": 4.2,
            "count": 0
           },
           {
            "bin_start": 4.2,
            "bin_end": 4.4,
            "count": 0
           },
           {
            "bin_start": 4.4,
            "bin_end": 4.6,
            "count": 0
           },
           {
            "bin_start": 4.6,
            "bin_end": 4.8,
            "count": 0
           },
           {
            "bin_start": 4.8,
            "bin_end": 5,
            "count": 3
           }
          ]
         }
        },
        {
         "name": "PUNTAJE",
         "dtype": "float64",
         "stats": {
          "unique_count": 5,
          "nan_count": 0,
          "min": "20.0",
          "max": "31.0",
          "histogram": [
           {
            "bin_start": 20,
            "bin_end": 21.1,
            "count": 2
           },
           {
            "bin_start": 21.1,
            "bin_end": 22.2,
            "count": 1
           },
           {
            "bin_start": 22.2,
            "bin_end": 23.3,
            "count": 1
           },
           {
            "bin_start": 23.3,
            "bin_end": 24.4,
            "count": 0
           },
           {
            "bin_start": 24.4,
            "bin_end": 25.5,
            "count": 0
           },
           {
            "bin_start": 25.5,
            "bin_end": 26.6,
            "count": 0
           },
           {
            "bin_start": 26.6,
            "bin_end": 27.700000000000003,
            "count": 0
           },
           {
            "bin_start": 27.700000000000003,
            "bin_end": 28.8,
            "count": 0
           },
           {
            "bin_start": 28.8,
            "bin_end": 29.9,
            "count": 0
           },
           {
            "bin_start": 29.9,
            "bin_end": 31,
            "count": 1
           }
          ]
         }
        },
        {
         "name": "NOTA",
         "dtype": "float64",
         "stats": {
          "unique_count": 5,
          "nan_count": 0,
          "min": "3.5",
          "max": "5.3",
          "histogram": [
           {
            "bin_start": 3.5,
            "bin_end": 3.68,
            "count": 2
           },
           {
            "bin_start": 3.68,
            "bin_end": 3.86,
            "count": 1
           },
           {
            "bin_start": 3.86,
            "bin_end": 4.04,
            "count": 1
           },
           {
            "bin_start": 4.04,
            "bin_end": 4.22,
            "count": 0
           },
           {
            "bin_start": 4.22,
            "bin_end": 4.4,
            "count": 0
           },
           {
            "bin_start": 4.4,
            "bin_end": 4.58,
            "count": 0
           },
           {
            "bin_start": 4.58,
            "bin_end": 4.76,
            "count": 0
           },
           {
            "bin_start": 4.76,
            "bin_end": 4.9399999999999995,
            "count": 0
           },
           {
            "bin_start": 4.9399999999999995,
            "bin_end": 5.12,
            "count": 0
           },
           {
            "bin_start": 5.12,
            "bin_end": 5.3,
            "count": 1
           }
          ]
         }
        },
        {
         "name": "CATEGORIA",
         "dtype": "int64",
         "stats": {
          "unique_count": 2,
          "nan_count": 0,
          "min": "2",
          "max": "4",
          "histogram": [
           {
            "bin_start": 2,
            "bin_end": 2.2,
            "count": 1
           },
           {
            "bin_start": 2.2,
            "bin_end": 2.4,
            "count": 0
           },
           {
            "bin_start": 2.4,
            "bin_end": 2.6,
            "count": 0
           },
           {
            "bin_start": 2.6,
            "bin_end": 2.8,
            "count": 0
           },
           {
            "bin_start": 2.8,
            "bin_end": 3,
            "count": 0
           },
           {
            "bin_start": 3,
            "bin_end": 3.2,
            "count": 0
           },
           {
            "bin_start": 3.2,
            "bin_end": 3.4000000000000004,
            "count": 0
           },
           {
            "bin_start": 3.4000000000000004,
            "bin_end": 3.6,
            "count": 0
           },
           {
            "bin_start": 3.6,
            "bin_end": 3.8,
            "count": 0
           },
           {
            "bin_start": 3.8,
            "bin_end": 4,
            "count": 4
           }
          ]
         }
        },
        {
         "name": "_deepnote_index_column",
         "dtype": "int64"
        }
       ],
       "rows": [
        {
         "ID": 1,
         "I1": 1,
         "I2": 4,
         "I3": 2,
         "I4": 2,
         "I5": 2,
         "I6": 3,
         "I7": 2,
         "I8": 5,
         "PUNTAJE": 21,
         "NOTA": 3.6,
         "CATEGORIA": 4,
         "_deepnote_index_column": 0
        },
        {
         "ID": 2,
         "I1": 1,
         "I2": 4,
         "I3": 2,
         "I4": 1,
         "I5": 2,
         "I6": 3,
         "I7": 2,
         "I8": 5,
         "PUNTAJE": 20,
         "NOTA": 3.5,
         "CATEGORIA": 4,
         "_deepnote_index_column": 1
        },
        {
         "ID": 3,
         "I1": 1,
         "I2": 1,
         "I3": 5,
         "I4": 3,
         "I5": 2,
         "I6": 2,
         "I7": 5,
         "I8": 3,
         "PUNTAJE": 22,
         "NOTA": 3.8,
         "CATEGORIA": 4,
         "_deepnote_index_column": 2
        },
        {
         "ID": 4,
         "I1": 5,
         "I2": 3,
         "I3": 5,
         "I4": 5,
         "I5": 1,
         "I6": 2,
         "I7": 5,
         "I8": 5,
         "PUNTAJE": 31,
         "NOTA": 5.3,
         "CATEGORIA": 2,
         "_deepnote_index_column": 3
        },
        {
         "ID": 5,
         "I1": 1,
         "I2": 1,
         "I3": 5,
         "I4": 2,
         "I5": 3,
         "I6": 3,
         "I7": 5,
         "I8": 3,
         "PUNTAJE": 23,
         "NOTA": 3.9,
         "CATEGORIA": 4,
         "_deepnote_index_column": 4
        }
       ]
      },
      "text/plain": "   ID   I1   I2   I3   I4   I5   I6   I7   I8  PUNTAJE  NOTA  CATEGORIA\n0   1  1.0  4.0  2.0  2.0  2.0  3.0  2.0  5.0     21.0   3.6          4\n1   2  1.0  4.0  2.0  1.0  2.0  3.0  2.0  5.0     20.0   3.5          4\n2   3  1.0  1.0  5.0  3.0  2.0  2.0  5.0  3.0     22.0   3.8          4\n3   4  5.0  3.0  5.0  5.0  1.0  2.0  5.0  5.0     31.0   5.3          2\n4   5  1.0  1.0  5.0  2.0  3.0  3.0  5.0  3.0     23.0   3.9          4",
      "text/html": "<div>\n<style scoped>\n    .dataframe tbody tr th:only-of-type {\n        vertical-align: middle;\n    }\n\n    .dataframe tbody tr th {\n        vertical-align: top;\n    }\n\n    .dataframe thead th {\n        text-align: right;\n    }\n</style>\n<table border=\"1\" class=\"dataframe\">\n  <thead>\n    <tr style=\"text-align: right;\">\n      <th></th>\n      <th>ID</th>\n      <th>I1</th>\n      <th>I2</th>\n      <th>I3</th>\n      <th>I4</th>\n      <th>I5</th>\n      <th>I6</th>\n      <th>I7</th>\n      <th>I8</th>\n      <th>PUNTAJE</th>\n      <th>NOTA</th>\n      <th>CATEGORIA</th>\n    </tr>\n  </thead>\n  <tbody>\n    <tr>\n      <th>0</th>\n      <td>1</td>\n      <td>1.0</td>\n      <td>4.0</td>\n      <td>2.0</td>\n      <td>2.0</td>\n      <td>2.0</td>\n      <td>3.0</td>\n      <td>2.0</td>\n      <td>5.0</td>\n      <td>21.0</td>\n      <td>3.6</td>\n      <td>4</td>\n    </tr>\n    <tr>\n      <th>1</th>\n      <td>2</td>\n      <td>1.0</td>\n      <td>4.0</td>\n      <td>2.0</td>\n      <td>1.0</td>\n      <td>2.0</td>\n      <td>3.0</td>\n      <td>2.0</td>\n      <td>5.0</td>\n      <td>20.0</td>\n      <td>3.5</td>\n      <td>4</td>\n    </tr>\n    <tr>\n      <th>2</th>\n      <td>3</td>\n      <td>1.0</td>\n      <td>1.0</td>\n      <td>5.0</td>\n      <td>3.0</td>\n      <td>2.0</td>\n      <td>2.0</td>\n      <td>5.0</td>\n      <td>3.0</td>\n      <td>22.0</td>\n      <td>3.8</td>\n      <td>4</td>\n    </tr>\n    <tr>\n      <th>3</th>\n      <td>4</td>\n      <td>5.0</td>\n      <td>3.0</td>\n      <td>5.0</td>\n      <td>5.0</td>\n      <td>1.0</td>\n      <td>2.0</td>\n      <td>5.0</td>\n      <td>5.0</td>\n      <td>31.0</td>\n      <td>5.3</td>\n      <td>2</td>\n    </tr>\n    <tr>\n      <th>4</th>\n      <td>5</td>\n      <td>1.0</td>\n      <td>1.0</td>\n      <td>5.0</td>\n      <td>2.0</td>\n      <td>3.0</td>\n      <td>3.0</td>\n      <td>5.0</td>\n      <td>3.0</td>\n      <td>23.0</td>\n      <td>3.9</td>\n      <td>4</td>\n    </tr>\n  </tbody>\n</table>\n</div>"
     },
     "metadata": {}
    }
   ]
  },
  {
   "cell_type": "code",
   "metadata": {
    "cell_id": "ef9f9cd9-02c5-4178-b2bf-50b90c7b4e5b",
    "tags": [],
    "deepnote_to_be_reexecuted": false,
    "source_hash": "d9949da6",
    "execution_start": 1644509924691,
    "execution_millis": 8,
    "deepnote_output_heights": [
     232.25
    ],
    "deepnote_cell_type": "code"
   },
   "source": "df_students.iloc[:, 1]",
   "execution_count": null,
   "outputs": [
    {
     "output_type": "execute_result",
     "execution_count": 47,
     "data": {
      "text/plain": "0      1.0\n1      1.0\n2      1.0\n3      5.0\n4      1.0\n      ... \n145    5.0\n146    1.0\n147    1.0\n148    5.0\n149    5.0\nName: I1, Length: 150, dtype: float64"
     },
     "metadata": {}
    }
   ]
  },
  {
   "cell_type": "code",
   "metadata": {
    "cell_id": "28d3e92f-3712-4e3d-9832-de5c64ddb835",
    "tags": [],
    "deepnote_to_be_reexecuted": false,
    "source_hash": "32bdde24",
    "execution_start": 1644509964660,
    "execution_millis": 252,
    "deepnote_output_heights": [
     250
    ],
    "deepnote_cell_type": "code"
   },
   "source": "#plt.scatter(df_students.iloc[:, 1], df_students.iloc[:, 2], marker='.');\nplt.scatter(X[:, 0], X[:, 1], marker='.');",
   "execution_count": null,
   "outputs": [
    {
     "data": {
      "text/plain": "<Figure size 432x288 with 1 Axes>",
      "image/png": "[encoded data removed]"
     },
     "metadata": {
      "needs_background": "light",
      "image/png": {
       "width": 370,
       "height": 248
      }
     },
     "output_type": "display_data"
    }
   ]
  },
  {
   "cell_type": "markdown",
   "source": "<a style='text-decoration:none;line-height:16px;display:flex;color:#5B5B62;padding:10px;justify-content:end;' href='https://deepnote.com?utm_source=created-in-deepnote-cell&projectId=1ddaaf58-075e-4191-8bbb-dc9543aea97c' target=\"_blank\">\n<img alt='Created in deepnote.com' style='display:inline;max-height:16px;margin:0px;margin-right:7.5px;' src='data:image/svg+xml;base64,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' > </img>\nCreated in <span style='font-weight:600;margin-left:4px;'>Deepnote</span></a>",
   "metadata": {
    "tags": [],
    "created_in_deepnote_cell": true,
    "deepnote_cell_type": "markdown"
   }
  }
 ],
 "nbformat": 4,
 "nbformat_minor": 2,
 "metadata": {
  "orig_nbformat": 2,
  "deepnote": {
   "is_reactive": false
  },
  "deepnote_notebook_id": "9736ea93-58a6-4b8f-aa9f-ab69317b20f1",
  "deepnote_execution_queue": []
 }
}